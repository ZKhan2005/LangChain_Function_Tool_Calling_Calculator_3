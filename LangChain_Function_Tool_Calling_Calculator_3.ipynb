{
  "nbformat": 4,
  "nbformat_minor": 0,
  "metadata": {
    "colab": {
      "provenance": [],
      "authorship_tag": "ABX9TyPsRQSrXUJl4fhFdtc+JGUL",
      "include_colab_link": true
    },
    "kernelspec": {
      "name": "python3",
      "display_name": "Python 3"
    },
    "language_info": {
      "name": "python"
    }
  },
  "cells": [
    {
      "cell_type": "markdown",
      "metadata": {
        "id": "view-in-github",
        "colab_type": "text"
      },
      "source": [
        "<a href=\"https://colab.research.google.com/github/ZKhan2005/LangChain_Function_Tool_Calling_Calculator_3/blob/main/LangChain_Function_Tool_Calling_Calculator_3.ipynb\" target=\"_parent\"><img src=\"https://colab.research.google.com/assets/colab-badge.svg\" alt=\"Open In Colab\"/></a>"
      ]
    },
    {
      "cell_type": "code",
      "execution_count": 1,
      "metadata": {
        "id": "XnBH_9WOBiZa",
        "colab": {
          "base_uri": "https://localhost:8080/"
        },
        "outputId": "38956111-0ac6-4c46-9e10-e5b61356cf0c"
      },
      "outputs": [
        {
          "output_type": "stream",
          "name": "stdout",
          "text": [
            "\u001b[?25l   \u001b[90m━━━━━━━━━━━━━━━━━━━━━━━━━━━━━━━━━━━━━━━━\u001b[0m \u001b[32m0.0/2.5 MB\u001b[0m \u001b[31m?\u001b[0m eta \u001b[36m-:--:--\u001b[0m\r\u001b[2K   \u001b[91m━━━━━━━━━━━━\u001b[0m\u001b[90m╺\u001b[0m\u001b[90m━━━━━━━━━━━━━━━━━━━━━━━━━━━\u001b[0m \u001b[32m0.8/2.5 MB\u001b[0m \u001b[31m22.7 MB/s\u001b[0m eta \u001b[36m0:00:01\u001b[0m\r\u001b[2K   \u001b[91m━━━━━━━━━━━━━━━━━━━━━━━━━━━━━━━━━━━━━━━\u001b[0m\u001b[91m╸\u001b[0m \u001b[32m2.5/2.5 MB\u001b[0m \u001b[31m43.0 MB/s\u001b[0m eta \u001b[36m0:00:01\u001b[0m\r\u001b[2K   \u001b[90m━━━━━━━━━━━━━━━━━━━━━━━━━━━━━━━━━━━━━━━━\u001b[0m \u001b[32m2.5/2.5 MB\u001b[0m \u001b[31m28.9 MB/s\u001b[0m eta \u001b[36m0:00:00\u001b[0m\n",
            "\u001b[2K   \u001b[90m━━━━━━━━━━━━━━━━━━━━━━━━━━━━━━━━━━━━━━━━\u001b[0m \u001b[32m49.5/49.5 kB\u001b[0m \u001b[31m3.2 MB/s\u001b[0m eta \u001b[36m0:00:00\u001b[0m\n",
            "\u001b[2K   \u001b[90m━━━━━━━━━━━━━━━━━━━━━━━━━━━━━━━━━━━━━━━━\u001b[0m \u001b[32m41.5/41.5 kB\u001b[0m \u001b[31m1.5 MB/s\u001b[0m eta \u001b[36m0:00:00\u001b[0m\n",
            "\u001b[?25h"
          ]
        }
      ],
      "source": [
        "!pip install python-dotenv -q\n",
        "!pip install langchain-community -U -q\n",
        "!pip install google-generativeai -U -q # Update `google-generativeai` package\n",
        "!pip install langchain -U -q\n",
        "!pip install langchain_google_genai -U -q"
      ]
    },
    {
      "cell_type": "code",
      "source": [
        "from google.colab import userdata\n",
        "userdata.get('GOOGLE_API_KEY')\n",
        "\n",
        "# Step 1: Retrieve the API key from Colab's user data\n",
        "api_key = userdata.get('GOOGLE_API_KEY')"
      ],
      "metadata": {
        "collapsed": true,
        "id": "kRyWJ9SYDOsU"
      },
      "execution_count": 2,
      "outputs": []
    },
    {
      "cell_type": "code",
      "source": [
        "class Calculator:\n",
        "    def calculate(self, expression: str) -> str:\n",
        "        try:\n",
        "            # Use Python's eval to compute the result safely\n",
        "            result = eval(expression, {\"__builtins__\": None}, {})\n",
        "            return str(result)\n",
        "        except Exception as e:\n",
        "            return f\"Error: {e}\""
      ],
      "metadata": {
        "id": "2Bre8P2QDwFg"
      },
      "execution_count": 3,
      "outputs": []
    },
    {
      "cell_type": "code",
      "source": [
        "from langchain.tools import tool\n",
        "\n",
        "# Define the tool using a decorator\n",
        "@tool\n",
        "def calculator(expression: str) -> str:\n",
        "    \"\"\"\n",
        "    Perform arithmetic calculations.\n",
        "    Input: A mathematical expression as a string (e.g., \"2 + 2\").\n",
        "    Output: Result of the calculation as a string.\n",
        "    \"\"\"\n",
        "    calc = Calculator()\n",
        "    return calc.calculate(expression)"
      ],
      "metadata": {
        "id": "0tXQ6UZvERsJ"
      },
      "execution_count": 4,
      "outputs": []
    },
    {
      "cell_type": "code",
      "source": [
        "import os\n",
        "from langchain_google_genai.chat_models import ChatGoogleGenerativeAI\n",
        "from langchain.chains.conversation.memory import ConversationBufferMemory\n",
        "\n",
        "# Initialize the Google Gemini Flash model\n",
        "gemini_model = ChatGoogleGenerativeAI(\n",
        "    model=\"gemini-1.5-flash\",  # Specify the model name, e.g., 'gemini-1.5-flash'\n",
        "    api_key=userdata.get('GOOGLE_API_KEY'),\n",
        "    temperature=0.7\n",
        ")\n",
        "print(\"Google Gemini Flash model initialized.\")\n"
      ],
      "metadata": {
        "colab": {
          "base_uri": "https://localhost:8080/"
        },
        "id": "EM5sfUchVBKQ",
        "outputId": "f7842961-6c92-473b-ccbb-2784629d1db1"
      },
      "execution_count": 5,
      "outputs": [
        {
          "output_type": "stream",
          "name": "stdout",
          "text": [
            "Google Gemini Flash model initialized.\n"
          ]
        }
      ]
    },
    {
      "cell_type": "code",
      "source": [
        "from langchain.agents import initialize_agent, AgentType\n",
        "from langchain.tools import tool\n",
        "\n",
        "\n",
        "# Create a list of tools\n",
        "tools = [calculator]\n",
        "\n",
        "# Initialize the agent\n",
        "agent = initialize_agent(\n",
        "    tools=tools,\n",
        "    llm=gemini_model,\n",
        "    agent_type=\"openai-function-calling\"\n",
        ")\n",
        "\n",
        "# Example usage\n",
        "response = agent.invoke(\"What is 12 * 15?\")\n",
        "print(response)\n",
        "\n"
      ],
      "metadata": {
        "colab": {
          "base_uri": "https://localhost:8080/"
        },
        "id": "iHLFaB2om5zq",
        "outputId": "b752427d-aa8d-4b5b-839d-e09746840be0"
      },
      "execution_count": 6,
      "outputs": [
        {
          "output_type": "stream",
          "name": "stderr",
          "text": [
            "<ipython-input-6-db5dca711a1b>:9: LangChainDeprecationWarning: LangChain agents will continue to be supported, but it is recommended for new use cases to be built with LangGraph. LangGraph offers a more flexible and full-featured framework for building agents, including support for tool-calling, persistence of state, and human-in-the-loop workflows. For details, refer to the `LangGraph documentation <https://langchain-ai.github.io/langgraph/>`_ as well as guides for `Migrating from AgentExecutor <https://python.langchain.com/docs/how_to/migrate_agent/>`_ and LangGraph's `Pre-built ReAct agent <https://langchain-ai.github.io/langgraph/how-tos/create-react-agent/>`_.\n",
            "  agent = initialize_agent(\n"
          ]
        },
        {
          "output_type": "stream",
          "name": "stdout",
          "text": [
            "{'input': 'What is 12 * 15?', 'output': '180'}\n"
          ]
        }
      ]
    },
    {
      "cell_type": "code",
      "source": [
        "from langchain.memory import ConversationBufferMemory\n",
        "from langchain.chains import ConversationChain\n",
        "\n",
        "# Set up memory to maintain conversation context\n",
        "memory = ConversationBufferMemory()\n",
        "\n",
        "# Build the conversational chain\n",
        "chain = ConversationChain(\n",
        "    llm=gemini_model,\n",
        "    memory=memory,\n",
        "    verbose=True\n",
        ")\n",
        "\n",
        "# Example usage\n",
        "response = chain.invoke(\"What is 12 * 15?\")\n",
        "print(response)\n"
      ],
      "metadata": {
        "colab": {
          "base_uri": "https://localhost:8080/"
        },
        "id": "H5ar8iY9pMSK",
        "outputId": "196adc9b-38c9-43aa-8b75-bdf2b6d0d46a"
      },
      "execution_count": 7,
      "outputs": [
        {
          "output_type": "stream",
          "name": "stderr",
          "text": [
            "<ipython-input-7-0ebed092f483>:5: LangChainDeprecationWarning: Please see the migration guide at: https://python.langchain.com/docs/versions/migrating_memory/\n",
            "  memory = ConversationBufferMemory()\n",
            "<ipython-input-7-0ebed092f483>:8: LangChainDeprecationWarning: The class `ConversationChain` was deprecated in LangChain 0.2.7 and will be removed in 1.0. Use :meth:`~RunnableWithMessageHistory: https://python.langchain.com/v0.2/api_reference/core/runnables/langchain_core.runnables.history.RunnableWithMessageHistory.html` instead.\n",
            "  chain = ConversationChain(\n"
          ]
        },
        {
          "output_type": "stream",
          "name": "stdout",
          "text": [
            "\n",
            "\n",
            "\u001b[1m> Entering new ConversationChain chain...\u001b[0m\n",
            "Prompt after formatting:\n",
            "\u001b[32;1m\u001b[1;3mThe following is a friendly conversation between a human and an AI. The AI is talkative and provides lots of specific details from its context. If the AI does not know the answer to a question, it truthfully says it does not know.\n",
            "\n",
            "Current conversation:\n",
            "\n",
            "Human: What is 12 * 15?\n",
            "AI:\u001b[0m\n",
            "\n",
            "\u001b[1m> Finished chain.\u001b[0m\n",
            "{'input': 'What is 12 * 15?', 'history': '', 'response': '12 * 15 is 180.  I arrived at this answer by performing the multiplication operation.  Specifically, I can break it down a few ways:  I could do 12 * 10 = 120, and then 12 * 5 = 60, and add those together (120 + 60 = 180).  Or, I could use the distributive property: 12 * (10 + 5) = (12 * 10) + (12 * 5) = 120 + 60 = 180.  Many methods exist for solving this basic multiplication problem!'}\n"
          ]
        }
      ]
    },
    {
      "cell_type": "code",
      "source": [
        "# User query\n",
        "query = \"What is 15 divided by 3?\"\n",
        "\n",
        "# Get response from the system\n",
        "response = chain.invoke(query)\n",
        "print(response)"
      ],
      "metadata": {
        "colab": {
          "base_uri": "https://localhost:8080/"
        },
        "id": "Esn3TYDqpyeU",
        "outputId": "c7a08a5b-af64-4bd9-91cc-b66777e0904e"
      },
      "execution_count": 8,
      "outputs": [
        {
          "output_type": "stream",
          "name": "stdout",
          "text": [
            "\n",
            "\n",
            "\u001b[1m> Entering new ConversationChain chain...\u001b[0m\n",
            "Prompt after formatting:\n",
            "\u001b[32;1m\u001b[1;3mThe following is a friendly conversation between a human and an AI. The AI is talkative and provides lots of specific details from its context. If the AI does not know the answer to a question, it truthfully says it does not know.\n",
            "\n",
            "Current conversation:\n",
            "Human: What is 12 * 15?\n",
            "AI: 12 * 15 is 180.  I arrived at this answer by performing the multiplication operation.  Specifically, I can break it down a few ways:  I could do 12 * 10 = 120, and then 12 * 5 = 60, and add those together (120 + 60 = 180).  Or, I could use the distributive property: 12 * (10 + 5) = (12 * 10) + (12 * 5) = 120 + 60 = 180.  Many methods exist for solving this basic multiplication problem!\n",
            "Human: What is 15 divided by 3?\n",
            "AI:\u001b[0m\n",
            "\n",
            "\u001b[1m> Finished chain.\u001b[0m\n",
            "{'input': 'What is 15 divided by 3?', 'history': 'Human: What is 12 * 15?\\nAI: 12 * 15 is 180.  I arrived at this answer by performing the multiplication operation.  Specifically, I can break it down a few ways:  I could do 12 * 10 = 120, and then 12 * 5 = 60, and add those together (120 + 60 = 180).  Or, I could use the distributive property: 12 * (10 + 5) = (12 * 10) + (12 * 5) = 120 + 60 = 180.  Many methods exist for solving this basic multiplication problem!', 'response': '15 divided by 3 is 5.  This is because 3 multiplied by 5 equals 15.  In other words, 3 goes into 15 five times.  Thinking about it visually, you could imagine 15 objects divided into three equal groups; each group would contain 5 objects.  Simple division!'}\n"
          ]
        }
      ]
    },
    {
      "cell_type": "code",
      "source": [
        "\n",
        "queries = [\n",
        "    \"What is 25 multiplied by 4?\",\n",
        "    \"Now divide the result by 5.\",\n",
        "    \"Add 10 to that.\"\n",
        "]\n",
        "\n",
        "for q in queries:\n",
        "    print(\"Query:\", q)\n",
        "    print(\"Response:\", chain.invoke(q))\n",
        "    print(\"-\" * 40)"
      ],
      "metadata": {
        "colab": {
          "base_uri": "https://localhost:8080/"
        },
        "id": "lTQ2klForHjM",
        "outputId": "df962f76-3bfc-44bb-b1d0-16f6c45a54dc"
      },
      "execution_count": 9,
      "outputs": [
        {
          "output_type": "stream",
          "name": "stdout",
          "text": [
            "Query: What is 25 multiplied by 4?\n",
            "\n",
            "\n",
            "\u001b[1m> Entering new ConversationChain chain...\u001b[0m\n",
            "Prompt after formatting:\n",
            "\u001b[32;1m\u001b[1;3mThe following is a friendly conversation between a human and an AI. The AI is talkative and provides lots of specific details from its context. If the AI does not know the answer to a question, it truthfully says it does not know.\n",
            "\n",
            "Current conversation:\n",
            "Human: What is 12 * 15?\n",
            "AI: 12 * 15 is 180.  I arrived at this answer by performing the multiplication operation.  Specifically, I can break it down a few ways:  I could do 12 * 10 = 120, and then 12 * 5 = 60, and add those together (120 + 60 = 180).  Or, I could use the distributive property: 12 * (10 + 5) = (12 * 10) + (12 * 5) = 120 + 60 = 180.  Many methods exist for solving this basic multiplication problem!\n",
            "Human: What is 15 divided by 3?\n",
            "AI: 15 divided by 3 is 5.  This is because 3 multiplied by 5 equals 15.  In other words, 3 goes into 15 five times.  Thinking about it visually, you could imagine 15 objects divided into three equal groups; each group would contain 5 objects.  Simple division!\n",
            "Human: What is 25 multiplied by 4?\n",
            "AI:\u001b[0m\n",
            "\n",
            "\u001b[1m> Finished chain.\u001b[0m\n",
            "Response: {'input': 'What is 25 multiplied by 4?', 'history': 'Human: What is 12 * 15?\\nAI: 12 * 15 is 180.  I arrived at this answer by performing the multiplication operation.  Specifically, I can break it down a few ways:  I could do 12 * 10 = 120, and then 12 * 5 = 60, and add those together (120 + 60 = 180).  Or, I could use the distributive property: 12 * (10 + 5) = (12 * 10) + (12 * 5) = 120 + 60 = 180.  Many methods exist for solving this basic multiplication problem!\\nHuman: What is 15 divided by 3?\\nAI: 15 divided by 3 is 5.  This is because 3 multiplied by 5 equals 15.  In other words, 3 goes into 15 five times.  Thinking about it visually, you could imagine 15 objects divided into three equal groups; each group would contain 5 objects.  Simple division!', 'response': '25 multiplied by 4 is 100.  I can reach this answer in several ways.  A common method is to think of it as 25 + 25 + 25 + 25 = 100.  Alternatively, you could think of it as four quarters (25 cents each) making one dollar (100 cents).  Or, using the commutative property of multiplication, we could also calculate 4 * 25, which might be easier to visualize as 4 * 20 = 80, and 4 * 5 = 20, then adding those results (80 + 20 = 100).  There are many routes to the same correct answer!'}\n",
            "----------------------------------------\n",
            "Query: Now divide the result by 5.\n",
            "\n",
            "\n",
            "\u001b[1m> Entering new ConversationChain chain...\u001b[0m\n",
            "Prompt after formatting:\n",
            "\u001b[32;1m\u001b[1;3mThe following is a friendly conversation between a human and an AI. The AI is talkative and provides lots of specific details from its context. If the AI does not know the answer to a question, it truthfully says it does not know.\n",
            "\n",
            "Current conversation:\n",
            "Human: What is 12 * 15?\n",
            "AI: 12 * 15 is 180.  I arrived at this answer by performing the multiplication operation.  Specifically, I can break it down a few ways:  I could do 12 * 10 = 120, and then 12 * 5 = 60, and add those together (120 + 60 = 180).  Or, I could use the distributive property: 12 * (10 + 5) = (12 * 10) + (12 * 5) = 120 + 60 = 180.  Many methods exist for solving this basic multiplication problem!\n",
            "Human: What is 15 divided by 3?\n",
            "AI: 15 divided by 3 is 5.  This is because 3 multiplied by 5 equals 15.  In other words, 3 goes into 15 five times.  Thinking about it visually, you could imagine 15 objects divided into three equal groups; each group would contain 5 objects.  Simple division!\n",
            "Human: What is 25 multiplied by 4?\n",
            "AI: 25 multiplied by 4 is 100.  I can reach this answer in several ways.  A common method is to think of it as 25 + 25 + 25 + 25 = 100.  Alternatively, you could think of it as four quarters (25 cents each) making one dollar (100 cents).  Or, using the commutative property of multiplication, we could also calculate 4 * 25, which might be easier to visualize as 4 * 20 = 80, and 4 * 5 = 20, then adding those results (80 + 20 = 100).  There are many routes to the same correct answer!\n",
            "Human: Now divide the result by 5.\n",
            "AI:\u001b[0m\n",
            "\n",
            "\u001b[1m> Finished chain.\u001b[0m\n",
            "Response: {'input': 'Now divide the result by 5.', 'history': 'Human: What is 12 * 15?\\nAI: 12 * 15 is 180.  I arrived at this answer by performing the multiplication operation.  Specifically, I can break it down a few ways:  I could do 12 * 10 = 120, and then 12 * 5 = 60, and add those together (120 + 60 = 180).  Or, I could use the distributive property: 12 * (10 + 5) = (12 * 10) + (12 * 5) = 120 + 60 = 180.  Many methods exist for solving this basic multiplication problem!\\nHuman: What is 15 divided by 3?\\nAI: 15 divided by 3 is 5.  This is because 3 multiplied by 5 equals 15.  In other words, 3 goes into 15 five times.  Thinking about it visually, you could imagine 15 objects divided into three equal groups; each group would contain 5 objects.  Simple division!\\nHuman: What is 25 multiplied by 4?\\nAI: 25 multiplied by 4 is 100.  I can reach this answer in several ways.  A common method is to think of it as 25 + 25 + 25 + 25 = 100.  Alternatively, you could think of it as four quarters (25 cents each) making one dollar (100 cents).  Or, using the commutative property of multiplication, we could also calculate 4 * 25, which might be easier to visualize as 4 * 20 = 80, and 4 * 5 = 20, then adding those results (80 + 20 = 100).  There are many routes to the same correct answer!', 'response': '100 divided by 5 is 20. This is because 5 multiplied by 20 equals 100.  You could also think of it as dividing 100 into five equal groups of 20.  Or, if you prefer, you could break it down: 5 goes into 10 twice, and 5 goes into 0 zero times, resulting in 20.  Division is straightforward in this case!'}\n",
            "----------------------------------------\n",
            "Query: Add 10 to that.\n",
            "\n",
            "\n",
            "\u001b[1m> Entering new ConversationChain chain...\u001b[0m\n",
            "Prompt after formatting:\n",
            "\u001b[32;1m\u001b[1;3mThe following is a friendly conversation between a human and an AI. The AI is talkative and provides lots of specific details from its context. If the AI does not know the answer to a question, it truthfully says it does not know.\n",
            "\n",
            "Current conversation:\n",
            "Human: What is 12 * 15?\n",
            "AI: 12 * 15 is 180.  I arrived at this answer by performing the multiplication operation.  Specifically, I can break it down a few ways:  I could do 12 * 10 = 120, and then 12 * 5 = 60, and add those together (120 + 60 = 180).  Or, I could use the distributive property: 12 * (10 + 5) = (12 * 10) + (12 * 5) = 120 + 60 = 180.  Many methods exist for solving this basic multiplication problem!\n",
            "Human: What is 15 divided by 3?\n",
            "AI: 15 divided by 3 is 5.  This is because 3 multiplied by 5 equals 15.  In other words, 3 goes into 15 five times.  Thinking about it visually, you could imagine 15 objects divided into three equal groups; each group would contain 5 objects.  Simple division!\n",
            "Human: What is 25 multiplied by 4?\n",
            "AI: 25 multiplied by 4 is 100.  I can reach this answer in several ways.  A common method is to think of it as 25 + 25 + 25 + 25 = 100.  Alternatively, you could think of it as four quarters (25 cents each) making one dollar (100 cents).  Or, using the commutative property of multiplication, we could also calculate 4 * 25, which might be easier to visualize as 4 * 20 = 80, and 4 * 5 = 20, then adding those results (80 + 20 = 100).  There are many routes to the same correct answer!\n",
            "Human: Now divide the result by 5.\n",
            "AI: 100 divided by 5 is 20. This is because 5 multiplied by 20 equals 100.  You could also think of it as dividing 100 into five equal groups of 20.  Or, if you prefer, you could break it down: 5 goes into 10 twice, and 5 goes into 0 zero times, resulting in 20.  Division is straightforward in this case!\n",
            "Human: Add 10 to that.\n",
            "AI:\u001b[0m\n",
            "\n",
            "\u001b[1m> Finished chain.\u001b[0m\n",
            "Response: {'input': 'Add 10 to that.', 'history': 'Human: What is 12 * 15?\\nAI: 12 * 15 is 180.  I arrived at this answer by performing the multiplication operation.  Specifically, I can break it down a few ways:  I could do 12 * 10 = 120, and then 12 * 5 = 60, and add those together (120 + 60 = 180).  Or, I could use the distributive property: 12 * (10 + 5) = (12 * 10) + (12 * 5) = 120 + 60 = 180.  Many methods exist for solving this basic multiplication problem!\\nHuman: What is 15 divided by 3?\\nAI: 15 divided by 3 is 5.  This is because 3 multiplied by 5 equals 15.  In other words, 3 goes into 15 five times.  Thinking about it visually, you could imagine 15 objects divided into three equal groups; each group would contain 5 objects.  Simple division!\\nHuman: What is 25 multiplied by 4?\\nAI: 25 multiplied by 4 is 100.  I can reach this answer in several ways.  A common method is to think of it as 25 + 25 + 25 + 25 = 100.  Alternatively, you could think of it as four quarters (25 cents each) making one dollar (100 cents).  Or, using the commutative property of multiplication, we could also calculate 4 * 25, which might be easier to visualize as 4 * 20 = 80, and 4 * 5 = 20, then adding those results (80 + 20 = 100).  There are many routes to the same correct answer!\\nHuman: Now divide the result by 5.\\nAI: 100 divided by 5 is 20. This is because 5 multiplied by 20 equals 100.  You could also think of it as dividing 100 into five equal groups of 20.  Or, if you prefer, you could break it down: 5 goes into 10 twice, and 5 goes into 0 zero times, resulting in 20.  Division is straightforward in this case!', 'response': 'Adding 10 to 20 results in 30.  This is a simple addition problem;  20 + 10 = 30.  You could visualize this by imagining 20 objects and adding 10 more objects to the collection, resulting in a total of 30 objects.  Basic arithmetic!'}\n",
            "----------------------------------------\n"
          ]
        }
      ]
    }
  ]
}